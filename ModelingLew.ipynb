{
 "cells": [
  {
   "cell_type": "markdown",
   "metadata": {},
   "source": [
    "## A Modeling & Deployment Exercise by State Farm for MLE"
   ]
  },
  {
   "cell_type": "markdown",
   "metadata": {},
   "source": [
    "This notebook is a first attempt at modeling a case from State Farm. The notebook that was provided contains useful methods and information about the data that being dealt with. However, there are several inconsistencies in the provided notebook. They are not limited to:\n",
    "\n",
    "- The raw original dataset does not contain any date-like columns\n",
    "- The application of removing the dollar sign was applied to several features that were not needed\n",
    "- The use of regression when the target variable is not continuous but binary\n",
    "\n",
    "Furthermore, there was no in-depth explanation as to why some of the features were removed. Hence, the aim of this notebook is hopefully address these inconsistencies and generate a good-enough model for classification. Optimizing the AUC score is one thing but what exactly is the business case? This is an ingredient that is missing and when handy will properly steer the direction of this project."
   ]
  },
  {
   "cell_type": "markdown",
   "metadata": {},
   "source": [
    "## Import Libraries"
   ]
  },
  {
   "cell_type": "code",
   "execution_count": 1,
   "metadata": {
    "ExecuteTime": {
     "end_time": "2020-08-04T20:25:46.466916Z",
     "start_time": "2020-08-04T20:25:44.482735Z"
    }
   },
   "outputs": [
    {
     "name": "stdout",
     "output_type": "stream",
     "text": [
      "1.19.0\n"
     ]
    }
   ],
   "source": [
    "import numpy as np\n",
    "import pandas as pd\n",
    "import matplotlib.pyplot as plt\n",
    "import seaborn as sns\n",
    "\n",
    "from sklearn                 import preprocessing\n",
    "from sklearn.model_selection import train_test_split\n",
    "from sklearn.model_selection import GridSearchCV\n",
    "from sklearn.ensemble        import RandomForestClassifier\n",
    "\n",
    "import json\n",
    "import pickle\n",
    "\n",
    "%matplotlib inline\n",
    "\n",
    "print(np.__version__)"
   ]
  },
  {
   "cell_type": "markdown",
   "metadata": {},
   "source": [
    "## Load Data Files"
   ]
  },
  {
   "cell_type": "code",
   "execution_count": 2,
   "metadata": {
    "ExecuteTime": {
     "end_time": "2020-08-04T20:25:47.103684Z",
     "start_time": "2020-08-04T20:25:46.469534Z"
    }
   },
   "outputs": [],
   "source": [
    "df_train_raw = pd.read_csv('./data/exercise_06_train.csv')\n",
    "df_test_raw  = pd.read_csv('./data/exercise_06_test.csv')"
   ]
  },
  {
   "cell_type": "code",
   "execution_count": 3,
   "metadata": {
    "ExecuteTime": {
     "end_time": "2020-08-04T20:25:47.107524Z",
     "start_time": "2020-08-04T20:25:47.105857Z"
    }
   },
   "outputs": [],
   "source": [
    "#cc = df_train_raw.drop(['y'], axis = 1)\n",
    "#cc.to_json('./data/exercise_06_train_drop_y.json',orient='records',index=True,lines=True)"
   ]
  },
  {
   "cell_type": "code",
   "execution_count": 4,
   "metadata": {
    "ExecuteTime": {
     "end_time": "2020-08-04T20:25:47.111282Z",
     "start_time": "2020-08-04T20:25:47.109615Z"
    }
   },
   "outputs": [],
   "source": [
    "# Convert all to training raw string for later testing p\n",
    "#cc = cc.applymap(str)\n",
    "#cc.to_json('./data/exercise_06_train_str_drop_y.json',orient='records',index=True,lines=True)"
   ]
  },
  {
   "cell_type": "code",
   "execution_count": 5,
   "metadata": {
    "ExecuteTime": {
     "end_time": "2020-08-04T20:25:48.096959Z",
     "start_time": "2020-08-04T20:25:47.113030Z"
    }
   },
   "outputs": [],
   "source": [
    "dd = df_test_raw.applymap(str)\n",
    "dd.to_json('./data/exercise_06_holdout_str.json',orient='records')"
   ]
  },
  {
   "cell_type": "code",
   "execution_count": 6,
   "metadata": {
    "ExecuteTime": {
     "end_time": "2020-08-04T20:25:48.105387Z",
     "start_time": "2020-08-04T20:25:48.099520Z"
    }
   },
   "outputs": [
    {
     "data": {
      "text/plain": [
       "(40000, 101)"
      ]
     },
     "execution_count": 6,
     "metadata": {},
     "output_type": "execute_result"
    }
   ],
   "source": [
    "df_train_raw.shape"
   ]
  },
  {
   "cell_type": "code",
   "execution_count": 7,
   "metadata": {
    "ExecuteTime": {
     "end_time": "2020-08-04T20:25:48.111000Z",
     "start_time": "2020-08-04T20:25:48.107009Z"
    }
   },
   "outputs": [
    {
     "data": {
      "text/plain": [
       "(10000, 100)"
      ]
     },
     "execution_count": 7,
     "metadata": {},
     "output_type": "execute_result"
    }
   ],
   "source": [
    "df_test_raw.shape"
   ]
  },
  {
   "cell_type": "code",
   "execution_count": 8,
   "metadata": {
    "ExecuteTime": {
     "end_time": "2020-08-04T20:25:48.117509Z",
     "start_time": "2020-08-04T20:25:48.115070Z"
    }
   },
   "outputs": [],
   "source": [
    "# Put these in a variable\n",
    "num_train = len(df_train_raw)\n",
    "num_test = len(df_test_raw)"
   ]
  },
  {
   "cell_type": "markdown",
   "metadata": {},
   "source": [
    "The test data is one column short since the target variable is missing"
   ]
  },
  {
   "cell_type": "code",
   "execution_count": 9,
   "metadata": {
    "ExecuteTime": {
     "end_time": "2020-08-04T20:25:48.376612Z",
     "start_time": "2020-08-04T20:25:48.119476Z"
    }
   },
   "outputs": [
    {
     "data": {
      "text/html": [
       "<div>\n",
       "<style scoped>\n",
       "    .dataframe tbody tr th:only-of-type {\n",
       "        vertical-align: middle;\n",
       "    }\n",
       "\n",
       "    .dataframe tbody tr th {\n",
       "        vertical-align: top;\n",
       "    }\n",
       "\n",
       "    .dataframe thead th {\n",
       "        text-align: right;\n",
       "    }\n",
       "</style>\n",
       "<table border=\"1\" class=\"dataframe\">\n",
       "  <thead>\n",
       "    <tr style=\"text-align: right;\">\n",
       "      <th></th>\n",
       "      <th>x0</th>\n",
       "      <th>x2</th>\n",
       "      <th>x3</th>\n",
       "      <th>x4</th>\n",
       "      <th>x5</th>\n",
       "      <th>x6</th>\n",
       "      <th>x7</th>\n",
       "      <th>x8</th>\n",
       "      <th>x9</th>\n",
       "      <th>x10</th>\n",
       "      <th>...</th>\n",
       "      <th>x91</th>\n",
       "      <th>x92</th>\n",
       "      <th>x93</th>\n",
       "      <th>x94</th>\n",
       "      <th>x95</th>\n",
       "      <th>x96</th>\n",
       "      <th>x97</th>\n",
       "      <th>x98</th>\n",
       "      <th>x99</th>\n",
       "      <th>y</th>\n",
       "    </tr>\n",
       "  </thead>\n",
       "  <tbody>\n",
       "    <tr>\n",
       "      <th>count</th>\n",
       "      <td>39990.000000</td>\n",
       "      <td>39994.000000</td>\n",
       "      <td>39991.000000</td>\n",
       "      <td>39994.000000</td>\n",
       "      <td>39991.000000</td>\n",
       "      <td>39991.000000</td>\n",
       "      <td>39988.000000</td>\n",
       "      <td>39994.000000</td>\n",
       "      <td>39992.000000</td>\n",
       "      <td>39991.000000</td>\n",
       "      <td>...</td>\n",
       "      <td>39996.000000</td>\n",
       "      <td>39996.000000</td>\n",
       "      <td>39992.000000</td>\n",
       "      <td>39991.000000</td>\n",
       "      <td>39992.000000</td>\n",
       "      <td>39987.000000</td>\n",
       "      <td>39991.000000</td>\n",
       "      <td>39994.000000</td>\n",
       "      <td>39989.000000</td>\n",
       "      <td>40000.000000</td>\n",
       "    </tr>\n",
       "    <tr>\n",
       "      <th>mean</th>\n",
       "      <td>-6.227324</td>\n",
       "      <td>-0.003631</td>\n",
       "      <td>3.263137</td>\n",
       "      <td>-0.011791</td>\n",
       "      <td>-0.194883</td>\n",
       "      <td>0.010383</td>\n",
       "      <td>1.356893</td>\n",
       "      <td>-5.772306</td>\n",
       "      <td>0.048048</td>\n",
       "      <td>0.010670</td>\n",
       "      <td>...</td>\n",
       "      <td>0.012280</td>\n",
       "      <td>0.000891</td>\n",
       "      <td>2.827068</td>\n",
       "      <td>-0.168331</td>\n",
       "      <td>1.402239</td>\n",
       "      <td>0.017075</td>\n",
       "      <td>-0.029050</td>\n",
       "      <td>-6.293150</td>\n",
       "      <td>-0.004016</td>\n",
       "      <td>0.202875</td>\n",
       "    </tr>\n",
       "    <tr>\n",
       "      <th>std</th>\n",
       "      <td>32.884089</td>\n",
       "      <td>3.173933</td>\n",
       "      <td>22.169602</td>\n",
       "      <td>3.166725</td>\n",
       "      <td>26.718008</td>\n",
       "      <td>4.130731</td>\n",
       "      <td>36.325197</td>\n",
       "      <td>102.849135</td>\n",
       "      <td>5.627881</td>\n",
       "      <td>4.326084</td>\n",
       "      <td>...</td>\n",
       "      <td>8.026413</td>\n",
       "      <td>0.107292</td>\n",
       "      <td>14.879884</td>\n",
       "      <td>39.032408</td>\n",
       "      <td>34.405960</td>\n",
       "      <td>2.849403</td>\n",
       "      <td>4.680817</td>\n",
       "      <td>35.467566</td>\n",
       "      <td>3.736728</td>\n",
       "      <td>0.402145</td>\n",
       "    </tr>\n",
       "    <tr>\n",
       "      <th>min</th>\n",
       "      <td>-135.390427</td>\n",
       "      <td>-13.050915</td>\n",
       "      <td>-96.407854</td>\n",
       "      <td>-13.129254</td>\n",
       "      <td>-113.134234</td>\n",
       "      <td>-17.051988</td>\n",
       "      <td>-149.371319</td>\n",
       "      <td>-402.685028</td>\n",
       "      <td>-22.408535</td>\n",
       "      <td>-18.826790</td>\n",
       "      <td>...</td>\n",
       "      <td>-33.851792</td>\n",
       "      <td>-0.444247</td>\n",
       "      <td>-59.220256</td>\n",
       "      <td>-145.432017</td>\n",
       "      <td>-138.359394</td>\n",
       "      <td>-11.420638</td>\n",
       "      <td>-20.394743</td>\n",
       "      <td>-147.169513</td>\n",
       "      <td>-16.125627</td>\n",
       "      <td>0.000000</td>\n",
       "    </tr>\n",
       "    <tr>\n",
       "      <th>25%</th>\n",
       "      <td>-28.346711</td>\n",
       "      <td>-2.162244</td>\n",
       "      <td>-11.552185</td>\n",
       "      <td>-2.153462</td>\n",
       "      <td>-18.043956</td>\n",
       "      <td>-2.808966</td>\n",
       "      <td>-22.780167</td>\n",
       "      <td>-74.311341</td>\n",
       "      <td>-3.716091</td>\n",
       "      <td>-2.901715</td>\n",
       "      <td>...</td>\n",
       "      <td>-5.417175</td>\n",
       "      <td>-0.072001</td>\n",
       "      <td>-7.051826</td>\n",
       "      <td>-26.510699</td>\n",
       "      <td>-21.690995</td>\n",
       "      <td>-1.890783</td>\n",
       "      <td>-3.179707</td>\n",
       "      <td>-30.233969</td>\n",
       "      <td>-2.527217</td>\n",
       "      <td>0.000000</td>\n",
       "    </tr>\n",
       "    <tr>\n",
       "      <th>50%</th>\n",
       "      <td>-6.336736</td>\n",
       "      <td>-0.012382</td>\n",
       "      <td>3.102505</td>\n",
       "      <td>-0.003128</td>\n",
       "      <td>-0.034942</td>\n",
       "      <td>0.017516</td>\n",
       "      <td>1.688819</td>\n",
       "      <td>-6.161974</td>\n",
       "      <td>0.068615</td>\n",
       "      <td>0.018151</td>\n",
       "      <td>...</td>\n",
       "      <td>0.066692</td>\n",
       "      <td>0.000825</td>\n",
       "      <td>2.826360</td>\n",
       "      <td>0.055396</td>\n",
       "      <td>1.351155</td>\n",
       "      <td>0.018116</td>\n",
       "      <td>-0.007754</td>\n",
       "      <td>-6.337003</td>\n",
       "      <td>-0.003896</td>\n",
       "      <td>0.000000</td>\n",
       "    </tr>\n",
       "    <tr>\n",
       "      <th>75%</th>\n",
       "      <td>15.920506</td>\n",
       "      <td>2.156365</td>\n",
       "      <td>18.073905</td>\n",
       "      <td>2.120751</td>\n",
       "      <td>17.895429</td>\n",
       "      <td>2.795949</td>\n",
       "      <td>26.155026</td>\n",
       "      <td>63.662019</td>\n",
       "      <td>3.835864</td>\n",
       "      <td>2.922207</td>\n",
       "      <td>...</td>\n",
       "      <td>5.435815</td>\n",
       "      <td>0.073810</td>\n",
       "      <td>12.769598</td>\n",
       "      <td>25.980973</td>\n",
       "      <td>24.784234</td>\n",
       "      <td>1.927068</td>\n",
       "      <td>3.106575</td>\n",
       "      <td>17.565666</td>\n",
       "      <td>2.508722</td>\n",
       "      <td>0.000000</td>\n",
       "    </tr>\n",
       "    <tr>\n",
       "      <th>max</th>\n",
       "      <td>130.289496</td>\n",
       "      <td>15.913158</td>\n",
       "      <td>93.923565</td>\n",
       "      <td>12.925425</td>\n",
       "      <td>98.938324</td>\n",
       "      <td>15.312540</td>\n",
       "      <td>145.258013</td>\n",
       "      <td>409.690180</td>\n",
       "      <td>22.281267</td>\n",
       "      <td>18.235211</td>\n",
       "      <td>...</td>\n",
       "      <td>35.100962</td>\n",
       "      <td>0.447370</td>\n",
       "      <td>64.628225</td>\n",
       "      <td>165.921125</td>\n",
       "      <td>138.112172</td>\n",
       "      <td>10.683489</td>\n",
       "      <td>20.410253</td>\n",
       "      <td>138.430649</td>\n",
       "      <td>14.973584</td>\n",
       "      <td>1.000000</td>\n",
       "    </tr>\n",
       "  </tbody>\n",
       "</table>\n",
       "<p>8 rows × 95 columns</p>\n",
       "</div>"
      ],
      "text/plain": [
       "                 x0            x2            x3            x4            x5  \\\n",
       "count  39990.000000  39994.000000  39991.000000  39994.000000  39991.000000   \n",
       "mean      -6.227324     -0.003631      3.263137     -0.011791     -0.194883   \n",
       "std       32.884089      3.173933     22.169602      3.166725     26.718008   \n",
       "min     -135.390427    -13.050915    -96.407854    -13.129254   -113.134234   \n",
       "25%      -28.346711     -2.162244    -11.552185     -2.153462    -18.043956   \n",
       "50%       -6.336736     -0.012382      3.102505     -0.003128     -0.034942   \n",
       "75%       15.920506      2.156365     18.073905      2.120751     17.895429   \n",
       "max      130.289496     15.913158     93.923565     12.925425     98.938324   \n",
       "\n",
       "                 x6            x7            x8            x9           x10  \\\n",
       "count  39991.000000  39988.000000  39994.000000  39992.000000  39991.000000   \n",
       "mean       0.010383      1.356893     -5.772306      0.048048      0.010670   \n",
       "std        4.130731     36.325197    102.849135      5.627881      4.326084   \n",
       "min      -17.051988   -149.371319   -402.685028    -22.408535    -18.826790   \n",
       "25%       -2.808966    -22.780167    -74.311341     -3.716091     -2.901715   \n",
       "50%        0.017516      1.688819     -6.161974      0.068615      0.018151   \n",
       "75%        2.795949     26.155026     63.662019      3.835864      2.922207   \n",
       "max       15.312540    145.258013    409.690180     22.281267     18.235211   \n",
       "\n",
       "       ...           x91           x92           x93           x94  \\\n",
       "count  ...  39996.000000  39996.000000  39992.000000  39991.000000   \n",
       "mean   ...      0.012280      0.000891      2.827068     -0.168331   \n",
       "std    ...      8.026413      0.107292     14.879884     39.032408   \n",
       "min    ...    -33.851792     -0.444247    -59.220256   -145.432017   \n",
       "25%    ...     -5.417175     -0.072001     -7.051826    -26.510699   \n",
       "50%    ...      0.066692      0.000825      2.826360      0.055396   \n",
       "75%    ...      5.435815      0.073810     12.769598     25.980973   \n",
       "max    ...     35.100962      0.447370     64.628225    165.921125   \n",
       "\n",
       "                x95           x96           x97           x98           x99  \\\n",
       "count  39992.000000  39987.000000  39991.000000  39994.000000  39989.000000   \n",
       "mean       1.402239      0.017075     -0.029050     -6.293150     -0.004016   \n",
       "std       34.405960      2.849403      4.680817     35.467566      3.736728   \n",
       "min     -138.359394    -11.420638    -20.394743   -147.169513    -16.125627   \n",
       "25%      -21.690995     -1.890783     -3.179707    -30.233969     -2.527217   \n",
       "50%        1.351155      0.018116     -0.007754     -6.337003     -0.003896   \n",
       "75%       24.784234      1.927068      3.106575     17.565666      2.508722   \n",
       "max      138.112172     10.683489     20.410253    138.430649     14.973584   \n",
       "\n",
       "                  y  \n",
       "count  40000.000000  \n",
       "mean       0.202875  \n",
       "std        0.402145  \n",
       "min        0.000000  \n",
       "25%        0.000000  \n",
       "50%        0.000000  \n",
       "75%        0.000000  \n",
       "max        1.000000  \n",
       "\n",
       "[8 rows x 95 columns]"
      ]
     },
     "execution_count": 9,
     "metadata": {},
     "output_type": "execute_result"
    }
   ],
   "source": [
    "df_train_raw.describe()"
   ]
  },
  {
   "cell_type": "markdown",
   "metadata": {
    "ExecuteTime": {
     "end_time": "2020-08-01T05:28:35.478166Z",
     "start_time": "2020-08-01T05:28:35.474099Z"
    }
   },
   "source": [
    "Looks like there are few missing rows"
   ]
  },
  {
   "cell_type": "code",
   "execution_count": 10,
   "metadata": {
    "ExecuteTime": {
     "end_time": "2020-08-04T20:25:48.385891Z",
     "start_time": "2020-08-04T20:25:48.379089Z"
    }
   },
   "outputs": [
    {
     "name": "stdout",
     "output_type": "stream",
     "text": [
      "<class 'pandas.core.frame.DataFrame'>\n",
      "RangeIndex: 40000 entries, 0 to 39999\n",
      "Columns: 101 entries, x0 to y\n",
      "dtypes: float64(94), int64(1), object(6)\n",
      "memory usage: 30.8+ MB\n"
     ]
    }
   ],
   "source": [
    "df_train_raw.info()"
   ]
  },
  {
   "cell_type": "markdown",
   "metadata": {},
   "source": [
    "Here 'y' is the target variable with an integer type. "
   ]
  },
  {
   "cell_type": "code",
   "execution_count": 11,
   "metadata": {
    "ExecuteTime": {
     "end_time": "2020-08-04T20:25:48.390789Z",
     "start_time": "2020-08-04T20:25:48.387775Z"
    }
   },
   "outputs": [],
   "source": [
    "# Let's extract categorical columns and take a look\n",
    "cat_cols_temp = df_train_raw.dtypes[df_train_raw.dtypes == 'object'].index"
   ]
  },
  {
   "cell_type": "code",
   "execution_count": 12,
   "metadata": {
    "ExecuteTime": {
     "end_time": "2020-08-04T20:25:48.402834Z",
     "start_time": "2020-08-04T20:25:48.392491Z"
    }
   },
   "outputs": [
    {
     "data": {
      "text/html": [
       "<div>\n",
       "<style scoped>\n",
       "    .dataframe tbody tr th:only-of-type {\n",
       "        vertical-align: middle;\n",
       "    }\n",
       "\n",
       "    .dataframe tbody tr th {\n",
       "        vertical-align: top;\n",
       "    }\n",
       "\n",
       "    .dataframe thead th {\n",
       "        text-align: right;\n",
       "    }\n",
       "</style>\n",
       "<table border=\"1\" class=\"dataframe\">\n",
       "  <thead>\n",
       "    <tr style=\"text-align: right;\">\n",
       "      <th></th>\n",
       "      <th>x1</th>\n",
       "      <th>x12</th>\n",
       "      <th>x54</th>\n",
       "      <th>x79</th>\n",
       "      <th>x82</th>\n",
       "      <th>x84</th>\n",
       "    </tr>\n",
       "  </thead>\n",
       "  <tbody>\n",
       "    <tr>\n",
       "      <th>0</th>\n",
       "      <td>thur</td>\n",
       "      <td>$567.15</td>\n",
       "      <td>Jun</td>\n",
       "      <td>0.01%</td>\n",
       "      <td>asia</td>\n",
       "      <td>Toyota</td>\n",
       "    </tr>\n",
       "    <tr>\n",
       "      <th>1</th>\n",
       "      <td>thur</td>\n",
       "      <td>($222.52)</td>\n",
       "      <td>Aug</td>\n",
       "      <td>-0.01%</td>\n",
       "      <td>asia</td>\n",
       "      <td>bmw</td>\n",
       "    </tr>\n",
       "    <tr>\n",
       "      <th>2</th>\n",
       "      <td>wed</td>\n",
       "      <td>$55.12</td>\n",
       "      <td>Jun</td>\n",
       "      <td>0.00%</td>\n",
       "      <td>asia</td>\n",
       "      <td>volkswagon</td>\n",
       "    </tr>\n",
       "    <tr>\n",
       "      <th>3</th>\n",
       "      <td>thurday</td>\n",
       "      <td>($698.53)</td>\n",
       "      <td>Aug</td>\n",
       "      <td>-0.01%</td>\n",
       "      <td>euorpe</td>\n",
       "      <td>Toyota</td>\n",
       "    </tr>\n",
       "    <tr>\n",
       "      <th>4</th>\n",
       "      <td>thurday</td>\n",
       "      <td>($486.68)</td>\n",
       "      <td>July</td>\n",
       "      <td>-0.01%</td>\n",
       "      <td>asia</td>\n",
       "      <td>Toyota</td>\n",
       "    </tr>\n",
       "  </tbody>\n",
       "</table>\n",
       "</div>"
      ],
      "text/plain": [
       "        x1        x12   x54     x79     x82         x84\n",
       "0     thur   $567.15    Jun   0.01%    asia      Toyota\n",
       "1     thur  ($222.52)   Aug  -0.01%    asia         bmw\n",
       "2      wed    $55.12    Jun   0.00%    asia  volkswagon\n",
       "3  thurday  ($698.53)   Aug  -0.01%  euorpe      Toyota\n",
       "4  thurday  ($486.68)  July  -0.01%    asia      Toyota"
      ]
     },
     "execution_count": 12,
     "metadata": {},
     "output_type": "execute_result"
    }
   ],
   "source": [
    "# Let's take a look a closer look at the categorical data\n",
    "df_cat = df_train_raw[list(cat_cols_temp)]\n",
    "df_cat.head()"
   ]
  },
  {
   "cell_type": "markdown",
   "metadata": {},
   "source": [
    "The above states that we need to clean x12 and x79. This will be done later."
   ]
  },
  {
   "cell_type": "code",
   "execution_count": 13,
   "metadata": {
    "ExecuteTime": {
     "end_time": "2020-08-04T20:25:48.407780Z",
     "start_time": "2020-08-04T20:25:48.404555Z"
    }
   },
   "outputs": [
    {
     "name": "stdout",
     "output_type": "stream",
     "text": [
      "Number of Class 1s:  8115\n",
      "Percentage of Class 1s: 20.29%\n"
     ]
    }
   ],
   "source": [
    "# Let's examine the target class\n",
    "num_class_1 = df_train_raw['y'].sum()\n",
    "print('Number of Class 1s: ', num_class_1)\n",
    "print('Percentage of Class 1s: {:.2%}'.format(num_class_1/num_train))"
   ]
  },
  {
   "cell_type": "markdown",
   "metadata": {},
   "source": [
    "So yes, it is imbalanced but not severely"
   ]
  },
  {
   "cell_type": "code",
   "execution_count": 14,
   "metadata": {
    "ExecuteTime": {
     "end_time": "2020-08-04T20:25:48.545497Z",
     "start_time": "2020-08-04T20:25:48.409507Z"
    }
   },
   "outputs": [
    {
     "name": "stdout",
     "output_type": "stream",
     "text": [
      "100\n"
     ]
    }
   ],
   "source": [
    "# Take a look at the percentange of missing values per column\n",
    "# I like this method. Learn something new everyday!\n",
    "null_train_pct = df_train_raw.isnull().sum()/float(num_train)*100\n",
    "\n",
    "print(len(null_train_pct[:-1]))"
   ]
  },
  {
   "cell_type": "code",
   "execution_count": 15,
   "metadata": {
    "ExecuteTime": {
     "end_time": "2020-08-04T20:25:48.751142Z",
     "start_time": "2020-08-04T20:25:48.547219Z"
    }
   },
   "outputs": [
    {
     "data": {
      "text/plain": [
       "<Figure size 432x288 with 0 Axes>"
      ]
     },
     "metadata": {},
     "output_type": "display_data"
    },
    {
     "data": {
      "image/png": "[encoded data removed]",
      "text/plain": [
       "<Figure size 864x576 with 1 Axes>"
      ]
     },
     "metadata": {
      "needs_background": "light"
     },
     "output_type": "display_data"
    }
   ],
   "source": [
    "# Let's plot the distribution\n",
    "x_variable = list(range(0,len(null_train_pct)))\n",
    "\n",
    "fig = plt.figure();\n",
    "plt.figure(figsize=(12,8));\n",
    "plt.plot(x_variable,null_train_pct);\n",
    "plt.xlabel('x_var features', fontsize=16);\n",
    "plt.ylabel('Percentage of Null/Missing Values (%)', fontsize=16);\n",
    "plt.title('Percentage of Missing Values vs X_(num), TRAIN', fontsize=16);\n",
    "plt.tick_params(labelsize=12);\n",
    "plt.grid();\n",
    "plt.show();\n"
   ]
  },
  {
   "cell_type": "markdown",
   "metadata": {},
   "source": [
    "From the above, the percentage distribution of missing values across variables is banded by 0.01% to 0.03% which is a rather small number. **The last index, 100, is the y target. No missing values.**"
   ]
  },
  {
   "cell_type": "code",
   "execution_count": 16,
   "metadata": {
    "ExecuteTime": {
     "end_time": "2020-08-04T20:25:49.512142Z",
     "start_time": "2020-08-04T20:25:49.326158Z"
    }
   },
   "outputs": [
    {
     "data": {
      "text/html": [
       "<div>\n",
       "<style scoped>\n",
       "    .dataframe tbody tr th:only-of-type {\n",
       "        vertical-align: middle;\n",
       "    }\n",
       "\n",
       "    .dataframe tbody tr th {\n",
       "        vertical-align: top;\n",
       "    }\n",
       "\n",
       "    .dataframe thead th {\n",
       "        text-align: right;\n",
       "    }\n",
       "</style>\n",
       "<table border=\"1\" class=\"dataframe\">\n",
       "  <thead>\n",
       "    <tr style=\"text-align: right;\">\n",
       "      <th></th>\n",
       "      <th>x0</th>\n",
       "      <th>x2</th>\n",
       "      <th>x3</th>\n",
       "      <th>x4</th>\n",
       "      <th>x5</th>\n",
       "      <th>x6</th>\n",
       "      <th>x7</th>\n",
       "      <th>x8</th>\n",
       "      <th>x9</th>\n",
       "      <th>x10</th>\n",
       "      <th>...</th>\n",
       "      <th>x90</th>\n",
       "      <th>x91</th>\n",
       "      <th>x92</th>\n",
       "      <th>x93</th>\n",
       "      <th>x94</th>\n",
       "      <th>x95</th>\n",
       "      <th>x96</th>\n",
       "      <th>x97</th>\n",
       "      <th>x98</th>\n",
       "      <th>x99</th>\n",
       "    </tr>\n",
       "  </thead>\n",
       "  <tbody>\n",
       "    <tr>\n",
       "      <th>count</th>\n",
       "      <td>9998.000000</td>\n",
       "      <td>9999.000000</td>\n",
       "      <td>9997.000000</td>\n",
       "      <td>9997.000000</td>\n",
       "      <td>9997.000000</td>\n",
       "      <td>9998.000000</td>\n",
       "      <td>9999.000000</td>\n",
       "      <td>9999.000000</td>\n",
       "      <td>9998.000000</td>\n",
       "      <td>9997.000000</td>\n",
       "      <td>...</td>\n",
       "      <td>9998.000000</td>\n",
       "      <td>9998.000000</td>\n",
       "      <td>9997.000000</td>\n",
       "      <td>10000.000000</td>\n",
       "      <td>9998.000000</td>\n",
       "      <td>9999.000000</td>\n",
       "      <td>9999.000000</td>\n",
       "      <td>9997.000000</td>\n",
       "      <td>10000.000000</td>\n",
       "      <td>9996.000000</td>\n",
       "    </tr>\n",
       "    <tr>\n",
       "      <th>mean</th>\n",
       "      <td>-6.034506</td>\n",
       "      <td>-0.032019</td>\n",
       "      <td>3.437874</td>\n",
       "      <td>-0.031043</td>\n",
       "      <td>-0.366806</td>\n",
       "      <td>0.011196</td>\n",
       "      <td>1.842939</td>\n",
       "      <td>-5.341586</td>\n",
       "      <td>-0.073698</td>\n",
       "      <td>0.016630</td>\n",
       "      <td>...</td>\n",
       "      <td>0.005758</td>\n",
       "      <td>0.085577</td>\n",
       "      <td>-0.002034</td>\n",
       "      <td>2.935843</td>\n",
       "      <td>0.008639</td>\n",
       "      <td>1.214429</td>\n",
       "      <td>-0.014826</td>\n",
       "      <td>0.011718</td>\n",
       "      <td>-7.217343</td>\n",
       "      <td>0.003926</td>\n",
       "    </tr>\n",
       "    <tr>\n",
       "      <th>std</th>\n",
       "      <td>33.057766</td>\n",
       "      <td>3.145554</td>\n",
       "      <td>22.474320</td>\n",
       "      <td>3.145244</td>\n",
       "      <td>26.679289</td>\n",
       "      <td>4.133687</td>\n",
       "      <td>36.452003</td>\n",
       "      <td>100.694021</td>\n",
       "      <td>5.660911</td>\n",
       "      <td>4.330269</td>\n",
       "      <td>...</td>\n",
       "      <td>4.666989</td>\n",
       "      <td>8.020340</td>\n",
       "      <td>0.107558</td>\n",
       "      <td>14.999175</td>\n",
       "      <td>38.801239</td>\n",
       "      <td>34.402609</td>\n",
       "      <td>2.859207</td>\n",
       "      <td>4.668887</td>\n",
       "      <td>35.697071</td>\n",
       "      <td>3.734014</td>\n",
       "    </tr>\n",
       "    <tr>\n",
       "      <th>min</th>\n",
       "      <td>-143.690776</td>\n",
       "      <td>-14.698761</td>\n",
       "      <td>-83.560606</td>\n",
       "      <td>-12.100369</td>\n",
       "      <td>-117.625832</td>\n",
       "      <td>-16.790410</td>\n",
       "      <td>-128.680296</td>\n",
       "      <td>-402.927564</td>\n",
       "      <td>-23.288204</td>\n",
       "      <td>-15.291569</td>\n",
       "      <td>...</td>\n",
       "      <td>-18.599408</td>\n",
       "      <td>-31.240534</td>\n",
       "      <td>-0.456978</td>\n",
       "      <td>-57.673842</td>\n",
       "      <td>-144.684866</td>\n",
       "      <td>-146.005620</td>\n",
       "      <td>-10.674883</td>\n",
       "      <td>-18.516694</td>\n",
       "      <td>-142.573806</td>\n",
       "      <td>-15.293302</td>\n",
       "    </tr>\n",
       "    <tr>\n",
       "      <th>25%</th>\n",
       "      <td>-28.092432</td>\n",
       "      <td>-2.102759</td>\n",
       "      <td>-11.735893</td>\n",
       "      <td>-2.130385</td>\n",
       "      <td>-18.101126</td>\n",
       "      <td>-2.811298</td>\n",
       "      <td>-22.337992</td>\n",
       "      <td>-72.326428</td>\n",
       "      <td>-3.897035</td>\n",
       "      <td>-2.967245</td>\n",
       "      <td>...</td>\n",
       "      <td>-3.119896</td>\n",
       "      <td>-5.341284</td>\n",
       "      <td>-0.074568</td>\n",
       "      <td>-7.202663</td>\n",
       "      <td>-26.153251</td>\n",
       "      <td>-22.345653</td>\n",
       "      <td>-1.966121</td>\n",
       "      <td>-3.177167</td>\n",
       "      <td>-31.347903</td>\n",
       "      <td>-2.541905</td>\n",
       "    </tr>\n",
       "    <tr>\n",
       "      <th>50%</th>\n",
       "      <td>-5.980225</td>\n",
       "      <td>-0.057019</td>\n",
       "      <td>3.478853</td>\n",
       "      <td>-0.062823</td>\n",
       "      <td>-0.067570</td>\n",
       "      <td>0.032146</td>\n",
       "      <td>2.053241</td>\n",
       "      <td>-5.039696</td>\n",
       "      <td>-0.098616</td>\n",
       "      <td>-0.000935</td>\n",
       "      <td>...</td>\n",
       "      <td>0.025968</td>\n",
       "      <td>0.143197</td>\n",
       "      <td>-0.003082</td>\n",
       "      <td>3.006865</td>\n",
       "      <td>-0.443289</td>\n",
       "      <td>1.289625</td>\n",
       "      <td>-0.041127</td>\n",
       "      <td>0.005723</td>\n",
       "      <td>-7.821605</td>\n",
       "      <td>-0.001595</td>\n",
       "    </tr>\n",
       "    <tr>\n",
       "      <th>75%</th>\n",
       "      <td>16.432319</td>\n",
       "      <td>2.062347</td>\n",
       "      <td>18.644323</td>\n",
       "      <td>2.075746</td>\n",
       "      <td>17.776241</td>\n",
       "      <td>2.792297</td>\n",
       "      <td>26.839027</td>\n",
       "      <td>62.651034</td>\n",
       "      <td>3.761357</td>\n",
       "      <td>2.936600</td>\n",
       "      <td>...</td>\n",
       "      <td>3.169904</td>\n",
       "      <td>5.553264</td>\n",
       "      <td>0.070297</td>\n",
       "      <td>12.940310</td>\n",
       "      <td>25.615566</td>\n",
       "      <td>24.545074</td>\n",
       "      <td>1.904048</td>\n",
       "      <td>3.190724</td>\n",
       "      <td>16.872573</td>\n",
       "      <td>2.526228</td>\n",
       "    </tr>\n",
       "    <tr>\n",
       "      <th>max</th>\n",
       "      <td>132.850436</td>\n",
       "      <td>12.396984</td>\n",
       "      <td>81.376532</td>\n",
       "      <td>10.990054</td>\n",
       "      <td>107.794149</td>\n",
       "      <td>14.887495</td>\n",
       "      <td>125.553701</td>\n",
       "      <td>361.495217</td>\n",
       "      <td>22.352095</td>\n",
       "      <td>17.577883</td>\n",
       "      <td>...</td>\n",
       "      <td>16.240693</td>\n",
       "      <td>28.227937</td>\n",
       "      <td>0.429505</td>\n",
       "      <td>66.697151</td>\n",
       "      <td>139.696178</td>\n",
       "      <td>123.863913</td>\n",
       "      <td>11.951755</td>\n",
       "      <td>18.416948</td>\n",
       "      <td>126.884076</td>\n",
       "      <td>13.824312</td>\n",
       "    </tr>\n",
       "  </tbody>\n",
       "</table>\n",
       "<p>8 rows × 94 columns</p>\n",
       "</div>"
      ],
      "text/plain": [
       "                x0           x2           x3           x4           x5  \\\n",
       "count  9998.000000  9999.000000  9997.000000  9997.000000  9997.000000   \n",
       "mean     -6.034506    -0.032019     3.437874    -0.031043    -0.366806   \n",
       "std      33.057766     3.145554    22.474320     3.145244    26.679289   \n",
       "min    -143.690776   -14.698761   -83.560606   -12.100369  -117.625832   \n",
       "25%     -28.092432    -2.102759   -11.735893    -2.130385   -18.101126   \n",
       "50%      -5.980225    -0.057019     3.478853    -0.062823    -0.067570   \n",
       "75%      16.432319     2.062347    18.644323     2.075746    17.776241   \n",
       "max     132.850436    12.396984    81.376532    10.990054   107.794149   \n",
       "\n",
       "                x6           x7           x8           x9          x10  ...  \\\n",
       "count  9998.000000  9999.000000  9999.000000  9998.000000  9997.000000  ...   \n",
       "mean      0.011196     1.842939    -5.341586    -0.073698     0.016630  ...   \n",
       "std       4.133687    36.452003   100.694021     5.660911     4.330269  ...   \n",
       "min     -16.790410  -128.680296  -402.927564   -23.288204   -15.291569  ...   \n",
       "25%      -2.811298   -22.337992   -72.326428    -3.897035    -2.967245  ...   \n",
       "50%       0.032146     2.053241    -5.039696    -0.098616    -0.000935  ...   \n",
       "75%       2.792297    26.839027    62.651034     3.761357     2.936600  ...   \n",
       "max      14.887495   125.553701   361.495217    22.352095    17.577883  ...   \n",
       "\n",
       "               x90          x91          x92           x93          x94  \\\n",
       "count  9998.000000  9998.000000  9997.000000  10000.000000  9998.000000   \n",
       "mean      0.005758     0.085577    -0.002034      2.935843     0.008639   \n",
       "std       4.666989     8.020340     0.107558     14.999175    38.801239   \n",
       "min     -18.599408   -31.240534    -0.456978    -57.673842  -144.684866   \n",
       "25%      -3.119896    -5.341284    -0.074568     -7.202663   -26.153251   \n",
       "50%       0.025968     0.143197    -0.003082      3.006865    -0.443289   \n",
       "75%       3.169904     5.553264     0.070297     12.940310    25.615566   \n",
       "max      16.240693    28.227937     0.429505     66.697151   139.696178   \n",
       "\n",
       "               x95          x96          x97           x98          x99  \n",
       "count  9999.000000  9999.000000  9997.000000  10000.000000  9996.000000  \n",
       "mean      1.214429    -0.014826     0.011718     -7.217343     0.003926  \n",
       "std      34.402609     2.859207     4.668887     35.697071     3.734014  \n",
       "min    -146.005620   -10.674883   -18.516694   -142.573806   -15.293302  \n",
       "25%     -22.345653    -1.966121    -3.177167    -31.347903    -2.541905  \n",
       "50%       1.289625    -0.041127     0.005723     -7.821605    -0.001595  \n",
       "75%      24.545074     1.904048     3.190724     16.872573     2.526228  \n",
       "max     123.863913    11.951755    18.416948    126.884076    13.824312  \n",
       "\n",
       "[8 rows x 94 columns]"
      ]
     },
     "execution_count": 16,
     "metadata": {},
     "output_type": "execute_result"
    }
   ],
   "source": [
    "# Let's take a look at the test dataset\n",
    "df_test_raw.describe()"
   ]
  },
  {
   "cell_type": "markdown",
   "metadata": {},
   "source": [
    "Several missing data here as well"
   ]
  },
  {
   "cell_type": "code",
   "execution_count": 17,
   "metadata": {
    "ExecuteTime": {
     "end_time": "2020-08-04T20:25:49.872147Z",
     "start_time": "2020-08-04T20:25:49.679644Z"
    }
   },
   "outputs": [
    {
     "data": {
      "text/plain": [
       "<Figure size 432x288 with 0 Axes>"
      ]
     },
     "metadata": {},
     "output_type": "display_data"
    },
    {
     "data": {
      "image/png": "[encoded data removed]",
      "text/plain": [
       "<Figure size 864x576 with 1 Axes>"
      ]
     },
     "metadata": {
      "needs_background": "light"
     },
     "output_type": "display_data"
    }
   ],
   "source": [
    "# Take a look at the percentange of missing values per column for the test set\n",
    "null_test_pct = df_test_raw.isnull().sum()/float(num_test)*100\n",
    "\n",
    "fig = plt.figure();\n",
    "plt.figure(figsize=(12,8));\n",
    "plt.plot(x_variable[:-1],null_test_pct);\n",
    "plt.xlabel('x_var features', fontsize=16);\n",
    "plt.ylabel('Percentage of Null/Missing Values (%)', fontsize=16);\n",
    "plt.title('Percentage of Missing Values vs X_(num), TEST', fontsize=16);\n",
    "plt.tick_params(labelsize=12);\n",
    "plt.grid();\n",
    "plt.show();"
   ]
  },
  {
   "cell_type": "code",
   "execution_count": 18,
   "metadata": {
    "ExecuteTime": {
     "end_time": "2020-08-04T20:25:51.026614Z",
     "start_time": "2020-08-04T20:25:50.824764Z"
    }
   },
   "outputs": [
    {
     "data": {
      "text/plain": [
       "<Figure size 432x288 with 0 Axes>"
      ]
     },
     "metadata": {},
     "output_type": "display_data"
    },
    {
     "data": {
      "image/png": "[encoded data removed]",
      "text/plain": [
       "<Figure size 864x576 with 1 Axes>"
      ]
     },
     "metadata": {
      "needs_background": "light"
     },
     "output_type": "display_data"
    }
   ],
   "source": [
    "# Let's take a diff and see what the delta looks like sans target variable\n",
    "diff_x_var = null_test_pct - null_train_pct\n",
    "\n",
    "fig = plt.figure();\n",
    "plt.figure(figsize=(12,8));\n",
    "plt.plot(x_variable[:-1],diff_x_var[:-1]);\n",
    "plt.xlabel('x_var features', fontsize=16);\n",
    "plt.ylabel('Difference null test (%) - train (%)', fontsize=16);\n",
    "plt.title('Percentage of Missing Values vs X_(num), TEST', fontsize=16);\n",
    "plt.tick_params(labelsize=12);\n",
    "plt.grid();\n",
    "plt.show();"
   ]
  },
  {
   "cell_type": "markdown",
   "metadata": {},
   "source": [
    "The purpose above is to look at the missing values in the train and test. Just visually though it appears that there are more missing values in the test set than in the train set. This conclusion is not in-depth. "
   ]
  },
  {
   "cell_type": "markdown",
   "metadata": {},
   "source": [
    "### Some notes"
   ]
  },
  {
   "cell_type": "markdown",
   "metadata": {},
   "source": [
    "In the provided jupyter notebook, the train and test dataframes are combined into one. The reason for doing has mainly to do with converting the categorical features into numerical data. For the categorical features listed above, some days, months, region, and automobile make are spelled incorrectly. There is no point going into correct these since the dataset is so large and could get even larger. To effectively account for all possibilities in the categorical feature, we will just combine train and test and label encode them. Once this is done, they are then separated for training."
   ]
  },
  {
   "cell_type": "code",
   "execution_count": 19,
   "metadata": {
    "ExecuteTime": {
     "end_time": "2020-08-04T20:25:52.728833Z",
     "start_time": "2020-08-04T20:25:52.725241Z"
    }
   },
   "outputs": [],
   "source": [
    "# Before we delete the data frames, lets extract the target variable.\n",
    "# We are sure that none of the target values are missing.\n",
    "y = df_train_raw['y']\n",
    "\n",
    "del df_train_raw['y']"
   ]
  },
  {
   "cell_type": "code",
   "execution_count": 20,
   "metadata": {
    "ExecuteTime": {
     "end_time": "2020-08-04T20:25:53.183587Z",
     "start_time": "2020-08-04T20:25:53.149395Z"
    }
   },
   "outputs": [],
   "source": [
    "# Now let's combine the train and test dataframes\n",
    "df_raw = pd.concat([df_train_raw, df_test_raw],ignore_index=True)"
   ]
  },
  {
   "cell_type": "code",
   "execution_count": 21,
   "metadata": {
    "ExecuteTime": {
     "end_time": "2020-08-04T20:25:54.438814Z",
     "start_time": "2020-08-04T20:25:54.434768Z"
    }
   },
   "outputs": [],
   "source": [
    "# To save memory space, let's delete the df_train_raw and df_test_raw\n",
    "del df_train_raw\n",
    "del df_test_raw"
   ]
  },
  {
   "cell_type": "code",
   "execution_count": 22,
   "metadata": {
    "ExecuteTime": {
     "end_time": "2020-08-04T20:25:54.706489Z",
     "start_time": "2020-08-04T20:25:54.702919Z"
    }
   },
   "outputs": [
    {
     "data": {
      "text/plain": [
       "(50000, 100)"
      ]
     },
     "execution_count": 22,
     "metadata": {},
     "output_type": "execute_result"
    }
   ],
   "source": [
    "# Let's take a look at the size\n",
    "df_raw.shape"
   ]
  },
  {
   "cell_type": "code",
   "execution_count": 23,
   "metadata": {
    "ExecuteTime": {
     "end_time": "2020-08-04T20:25:54.889187Z",
     "start_time": "2020-08-04T20:25:54.870154Z"
    }
   },
   "outputs": [
    {
     "data": {
      "text/html": [
       "<div>\n",
       "<style scoped>\n",
       "    .dataframe tbody tr th:only-of-type {\n",
       "        vertical-align: middle;\n",
       "    }\n",
       "\n",
       "    .dataframe tbody tr th {\n",
       "        vertical-align: top;\n",
       "    }\n",
       "\n",
       "    .dataframe thead th {\n",
       "        text-align: right;\n",
       "    }\n",
       "</style>\n",
       "<table border=\"1\" class=\"dataframe\">\n",
       "  <thead>\n",
       "    <tr style=\"text-align: right;\">\n",
       "      <th></th>\n",
       "      <th>x0</th>\n",
       "      <th>x1</th>\n",
       "      <th>x2</th>\n",
       "      <th>x3</th>\n",
       "      <th>x4</th>\n",
       "      <th>x5</th>\n",
       "      <th>x6</th>\n",
       "      <th>x7</th>\n",
       "      <th>x8</th>\n",
       "      <th>x9</th>\n",
       "      <th>...</th>\n",
       "      <th>x90</th>\n",
       "      <th>x91</th>\n",
       "      <th>x92</th>\n",
       "      <th>x93</th>\n",
       "      <th>x94</th>\n",
       "      <th>x95</th>\n",
       "      <th>x96</th>\n",
       "      <th>x97</th>\n",
       "      <th>x98</th>\n",
       "      <th>x99</th>\n",
       "    </tr>\n",
       "  </thead>\n",
       "  <tbody>\n",
       "    <tr>\n",
       "      <th>0</th>\n",
       "      <td>-18.801830</td>\n",
       "      <td>thur</td>\n",
       "      <td>-6.552566</td>\n",
       "      <td>9.538784</td>\n",
       "      <td>1.312835</td>\n",
       "      <td>-30.919756</td>\n",
       "      <td>-1.746701</td>\n",
       "      <td>10.353219</td>\n",
       "      <td>7.540528</td>\n",
       "      <td>2.367213</td>\n",
       "      <td>...</td>\n",
       "      <td>2.346655</td>\n",
       "      <td>1.123002</td>\n",
       "      <td>0.100649</td>\n",
       "      <td>-2.289470</td>\n",
       "      <td>-31.647151</td>\n",
       "      <td>33.027017</td>\n",
       "      <td>0.185422</td>\n",
       "      <td>6.273963</td>\n",
       "      <td>13.979704</td>\n",
       "      <td>-6.463642</td>\n",
       "    </tr>\n",
       "    <tr>\n",
       "      <th>1</th>\n",
       "      <td>-10.067812</td>\n",
       "      <td>thur</td>\n",
       "      <td>0.729611</td>\n",
       "      <td>20.360833</td>\n",
       "      <td>-3.613123</td>\n",
       "      <td>-17.570984</td>\n",
       "      <td>2.543479</td>\n",
       "      <td>-15.372645</td>\n",
       "      <td>115.017876</td>\n",
       "      <td>6.575745</td>\n",
       "      <td>...</td>\n",
       "      <td>3.118563</td>\n",
       "      <td>2.164270</td>\n",
       "      <td>0.115138</td>\n",
       "      <td>-10.523961</td>\n",
       "      <td>-43.017759</td>\n",
       "      <td>-13.975430</td>\n",
       "      <td>-1.361422</td>\n",
       "      <td>0.013210</td>\n",
       "      <td>-29.676227</td>\n",
       "      <td>-0.632905</td>\n",
       "    </tr>\n",
       "    <tr>\n",
       "      <th>2</th>\n",
       "      <td>32.090898</td>\n",
       "      <td>wed</td>\n",
       "      <td>0.337504</td>\n",
       "      <td>0.656304</td>\n",
       "      <td>1.486507</td>\n",
       "      <td>-41.844111</td>\n",
       "      <td>-6.575336</td>\n",
       "      <td>-35.273596</td>\n",
       "      <td>69.702872</td>\n",
       "      <td>6.776646</td>\n",
       "      <td>...</td>\n",
       "      <td>-2.677601</td>\n",
       "      <td>4.791612</td>\n",
       "      <td>0.188479</td>\n",
       "      <td>-13.207637</td>\n",
       "      <td>-36.059895</td>\n",
       "      <td>-10.711337</td>\n",
       "      <td>8.228320</td>\n",
       "      <td>0.944817</td>\n",
       "      <td>-1.313898</td>\n",
       "      <td>-4.071025</td>\n",
       "    </tr>\n",
       "    <tr>\n",
       "      <th>3</th>\n",
       "      <td>8.032520</td>\n",
       "      <td>thurday</td>\n",
       "      <td>-1.066729</td>\n",
       "      <td>-26.137688</td>\n",
       "      <td>1.239016</td>\n",
       "      <td>10.016360</td>\n",
       "      <td>0.750321</td>\n",
       "      <td>-0.189688</td>\n",
       "      <td>54.489425</td>\n",
       "      <td>7.047990</td>\n",
       "      <td>...</td>\n",
       "      <td>-0.616081</td>\n",
       "      <td>-6.865662</td>\n",
       "      <td>-0.237309</td>\n",
       "      <td>-18.353940</td>\n",
       "      <td>-33.980075</td>\n",
       "      <td>49.143130</td>\n",
       "      <td>3.353182</td>\n",
       "      <td>-4.094337</td>\n",
       "      <td>11.922088</td>\n",
       "      <td>-2.627234</td>\n",
       "    </tr>\n",
       "    <tr>\n",
       "      <th>4</th>\n",
       "      <td>-29.852847</td>\n",
       "      <td>thurday</td>\n",
       "      <td>5.551189</td>\n",
       "      <td>6.719916</td>\n",
       "      <td>-0.844864</td>\n",
       "      <td>24.908333</td>\n",
       "      <td>-3.633462</td>\n",
       "      <td>-10.470385</td>\n",
       "      <td>-46.300708</td>\n",
       "      <td>-11.035877</td>\n",
       "      <td>...</td>\n",
       "      <td>-0.655409</td>\n",
       "      <td>5.501678</td>\n",
       "      <td>0.146089</td>\n",
       "      <td>1.150860</td>\n",
       "      <td>-8.455681</td>\n",
       "      <td>3.111147</td>\n",
       "      <td>1.256273</td>\n",
       "      <td>-3.909616</td>\n",
       "      <td>-18.668604</td>\n",
       "      <td>-0.831601</td>\n",
       "    </tr>\n",
       "  </tbody>\n",
       "</table>\n",
       "<p>5 rows × 100 columns</p>\n",
       "</div>"
      ],
      "text/plain": [
       "          x0       x1        x2         x3        x4         x5        x6  \\\n",
       "0 -18.801830     thur -6.552566   9.538784  1.312835 -30.919756 -1.746701   \n",
       "1 -10.067812     thur  0.729611  20.360833 -3.613123 -17.570984  2.543479   \n",
       "2  32.090898      wed  0.337504   0.656304  1.486507 -41.844111 -6.575336   \n",
       "3   8.032520  thurday -1.066729 -26.137688  1.239016  10.016360  0.750321   \n",
       "4 -29.852847  thurday  5.551189   6.719916 -0.844864  24.908333 -3.633462   \n",
       "\n",
       "          x7          x8         x9  ...       x90       x91       x92  \\\n",
       "0  10.353219    7.540528   2.367213  ...  2.346655  1.123002  0.100649   \n",
       "1 -15.372645  115.017876   6.575745  ...  3.118563  2.164270  0.115138   \n",
       "2 -35.273596   69.702872   6.776646  ... -2.677601  4.791612  0.188479   \n",
       "3  -0.189688   54.489425   7.047990  ... -0.616081 -6.865662 -0.237309   \n",
       "4 -10.470385  -46.300708 -11.035877  ... -0.655409  5.501678  0.146089   \n",
       "\n",
       "         x93        x94        x95       x96       x97        x98       x99  \n",
       "0  -2.289470 -31.647151  33.027017  0.185422  6.273963  13.979704 -6.463642  \n",
       "1 -10.523961 -43.017759 -13.975430 -1.361422  0.013210 -29.676227 -0.632905  \n",
       "2 -13.207637 -36.059895 -10.711337  8.228320  0.944817  -1.313898 -4.071025  \n",
       "3 -18.353940 -33.980075  49.143130  3.353182 -4.094337  11.922088 -2.627234  \n",
       "4   1.150860  -8.455681   3.111147  1.256273 -3.909616 -18.668604 -0.831601  \n",
       "\n",
       "[5 rows x 100 columns]"
      ]
     },
     "execution_count": 23,
     "metadata": {},
     "output_type": "execute_result"
    }
   ],
   "source": [
    "df_raw.head()"
   ]
  },
  {
   "cell_type": "code",
   "execution_count": 24,
   "metadata": {
    "ExecuteTime": {
     "end_time": "2020-08-04T20:25:55.035383Z",
     "start_time": "2020-08-04T20:25:55.015517Z"
    }
   },
   "outputs": [
    {
     "data": {
      "text/html": [
       "<div>\n",
       "<style scoped>\n",
       "    .dataframe tbody tr th:only-of-type {\n",
       "        vertical-align: middle;\n",
       "    }\n",
       "\n",
       "    .dataframe tbody tr th {\n",
       "        vertical-align: top;\n",
       "    }\n",
       "\n",
       "    .dataframe thead th {\n",
       "        text-align: right;\n",
       "    }\n",
       "</style>\n",
       "<table border=\"1\" class=\"dataframe\">\n",
       "  <thead>\n",
       "    <tr style=\"text-align: right;\">\n",
       "      <th></th>\n",
       "      <th>x0</th>\n",
       "      <th>x1</th>\n",
       "      <th>x2</th>\n",
       "      <th>x3</th>\n",
       "      <th>x4</th>\n",
       "      <th>x5</th>\n",
       "      <th>x6</th>\n",
       "      <th>x7</th>\n",
       "      <th>x8</th>\n",
       "      <th>x9</th>\n",
       "      <th>...</th>\n",
       "      <th>x90</th>\n",
       "      <th>x91</th>\n",
       "      <th>x92</th>\n",
       "      <th>x93</th>\n",
       "      <th>x94</th>\n",
       "      <th>x95</th>\n",
       "      <th>x96</th>\n",
       "      <th>x97</th>\n",
       "      <th>x98</th>\n",
       "      <th>x99</th>\n",
       "    </tr>\n",
       "  </thead>\n",
       "  <tbody>\n",
       "    <tr>\n",
       "      <th>49995</th>\n",
       "      <td>42.487717</td>\n",
       "      <td>wednesday</td>\n",
       "      <td>-4.130542</td>\n",
       "      <td>22.038610</td>\n",
       "      <td>-2.172536</td>\n",
       "      <td>-11.768441</td>\n",
       "      <td>-4.564670</td>\n",
       "      <td>-44.135020</td>\n",
       "      <td>-213.921563</td>\n",
       "      <td>9.847965</td>\n",
       "      <td>...</td>\n",
       "      <td>0.461091</td>\n",
       "      <td>15.269343</td>\n",
       "      <td>0.014460</td>\n",
       "      <td>7.206053</td>\n",
       "      <td>-9.939702</td>\n",
       "      <td>32.541468</td>\n",
       "      <td>-6.803338</td>\n",
       "      <td>1.401432</td>\n",
       "      <td>18.494866</td>\n",
       "      <td>-4.783878</td>\n",
       "    </tr>\n",
       "    <tr>\n",
       "      <th>49996</th>\n",
       "      <td>-7.192815</td>\n",
       "      <td>wed</td>\n",
       "      <td>3.270981</td>\n",
       "      <td>-8.402407</td>\n",
       "      <td>-4.143773</td>\n",
       "      <td>-11.717519</td>\n",
       "      <td>0.232959</td>\n",
       "      <td>22.852788</td>\n",
       "      <td>-39.134705</td>\n",
       "      <td>-7.502614</td>\n",
       "      <td>...</td>\n",
       "      <td>0.920426</td>\n",
       "      <td>3.337998</td>\n",
       "      <td>-0.031179</td>\n",
       "      <td>8.324772</td>\n",
       "      <td>50.739629</td>\n",
       "      <td>-16.712595</td>\n",
       "      <td>0.394238</td>\n",
       "      <td>1.468364</td>\n",
       "      <td>19.994687</td>\n",
       "      <td>-0.568074</td>\n",
       "    </tr>\n",
       "    <tr>\n",
       "      <th>49997</th>\n",
       "      <td>8.793212</td>\n",
       "      <td>thurday</td>\n",
       "      <td>-1.393157</td>\n",
       "      <td>-6.314145</td>\n",
       "      <td>3.326924</td>\n",
       "      <td>-13.012858</td>\n",
       "      <td>1.016672</td>\n",
       "      <td>17.975472</td>\n",
       "      <td>8.199340</td>\n",
       "      <td>-2.212123</td>\n",
       "      <td>...</td>\n",
       "      <td>1.500479</td>\n",
       "      <td>-7.847651</td>\n",
       "      <td>-0.047705</td>\n",
       "      <td>-27.068454</td>\n",
       "      <td>-35.265855</td>\n",
       "      <td>54.182808</td>\n",
       "      <td>4.833496</td>\n",
       "      <td>1.122274</td>\n",
       "      <td>38.506203</td>\n",
       "      <td>-1.528920</td>\n",
       "    </tr>\n",
       "    <tr>\n",
       "      <th>49998</th>\n",
       "      <td>-43.454876</td>\n",
       "      <td>thur</td>\n",
       "      <td>0.632218</td>\n",
       "      <td>16.436369</td>\n",
       "      <td>-0.472492</td>\n",
       "      <td>-21.230454</td>\n",
       "      <td>-2.127770</td>\n",
       "      <td>-4.278341</td>\n",
       "      <td>-48.637476</td>\n",
       "      <td>-3.139096</td>\n",
       "      <td>...</td>\n",
       "      <td>-5.687137</td>\n",
       "      <td>9.773085</td>\n",
       "      <td>0.158917</td>\n",
       "      <td>-2.759867</td>\n",
       "      <td>-25.900913</td>\n",
       "      <td>-10.685545</td>\n",
       "      <td>6.691167</td>\n",
       "      <td>-6.180916</td>\n",
       "      <td>48.543568</td>\n",
       "      <td>-2.380228</td>\n",
       "    </tr>\n",
       "    <tr>\n",
       "      <th>49999</th>\n",
       "      <td>-16.242451</td>\n",
       "      <td>tuesday</td>\n",
       "      <td>4.240384</td>\n",
       "      <td>19.777380</td>\n",
       "      <td>-3.465630</td>\n",
       "      <td>13.736478</td>\n",
       "      <td>-3.372487</td>\n",
       "      <td>16.525887</td>\n",
       "      <td>60.977834</td>\n",
       "      <td>4.802240</td>\n",
       "      <td>...</td>\n",
       "      <td>2.494329</td>\n",
       "      <td>3.201127</td>\n",
       "      <td>-0.122041</td>\n",
       "      <td>2.556874</td>\n",
       "      <td>43.947591</td>\n",
       "      <td>5.497269</td>\n",
       "      <td>-1.001234</td>\n",
       "      <td>1.765095</td>\n",
       "      <td>-61.186489</td>\n",
       "      <td>-6.168738</td>\n",
       "    </tr>\n",
       "  </tbody>\n",
       "</table>\n",
       "<p>5 rows × 100 columns</p>\n",
       "</div>"
      ],
      "text/plain": [
       "              x0         x1        x2         x3        x4         x5  \\\n",
       "49995  42.487717  wednesday -4.130542  22.038610 -2.172536 -11.768441   \n",
       "49996  -7.192815        wed  3.270981  -8.402407 -4.143773 -11.717519   \n",
       "49997   8.793212    thurday -1.393157  -6.314145  3.326924 -13.012858   \n",
       "49998 -43.454876       thur  0.632218  16.436369 -0.472492 -21.230454   \n",
       "49999 -16.242451    tuesday  4.240384  19.777380 -3.465630  13.736478   \n",
       "\n",
       "             x6         x7          x8        x9  ...       x90        x91  \\\n",
       "49995 -4.564670 -44.135020 -213.921563  9.847965  ...  0.461091  15.269343   \n",
       "49996  0.232959  22.852788  -39.134705 -7.502614  ...  0.920426   3.337998   \n",
       "49997  1.016672  17.975472    8.199340 -2.212123  ...  1.500479  -7.847651   \n",
       "49998 -2.127770  -4.278341  -48.637476 -3.139096  ... -5.687137   9.773085   \n",
       "49999 -3.372487  16.525887   60.977834  4.802240  ...  2.494329   3.201127   \n",
       "\n",
       "            x92        x93        x94        x95       x96       x97  \\\n",
       "49995  0.014460   7.206053  -9.939702  32.541468 -6.803338  1.401432   \n",
       "49996 -0.031179   8.324772  50.739629 -16.712595  0.394238  1.468364   \n",
       "49997 -0.047705 -27.068454 -35.265855  54.182808  4.833496  1.122274   \n",
       "49998  0.158917  -2.759867 -25.900913 -10.685545  6.691167 -6.180916   \n",
       "49999 -0.122041   2.556874  43.947591   5.497269 -1.001234  1.765095   \n",
       "\n",
       "             x98       x99  \n",
       "49995  18.494866 -4.783878  \n",
       "49996  19.994687 -0.568074  \n",
       "49997  38.506203 -1.528920  \n",
       "49998  48.543568 -2.380228  \n",
       "49999 -61.186489 -6.168738  \n",
       "\n",
       "[5 rows x 100 columns]"
      ]
     },
     "execution_count": 24,
     "metadata": {},
     "output_type": "execute_result"
    }
   ],
   "source": [
    "# Note the NaN for target y at the tail end of it\n",
    "df_raw.tail()"
   ]
  },
  {
   "cell_type": "markdown",
   "metadata": {},
   "source": [
    "## Feature Selection & Engineering"
   ]
  },
  {
   "cell_type": "markdown",
   "metadata": {},
   "source": [
    "The original provided notebook made several changes to the variables\n",
    "\n",
    "- Deleted x2, x3, x19 because according to the comments it was not needed for modeling?\n",
    "- Deleted x10, x16, x18 because NLP was required thus increasing the complexity of the model?\n",
    "- Deleted x8 because it was redundant?\n",
    "- Created 'new' features to be used in modeling --> x33 = x5/x4 and x34 = x6/x5?\n",
    "- x15 and x23 converted to years? The current data does not appear to be in years.\n",
    "\n",
    "The given reasons above are rather light in reason and no in-depth discussion. There was also several feature engineering involved with not much explanation involved. Clearly I am not privy to the information before-hand. Moving forward, I will assume that what I am handed is a blind-test. I will implement the suggested feature engineering methods in another section and compare the AUC score...time permitting."
   ]
  },
  {
   "cell_type": "code",
   "execution_count": 25,
   "metadata": {
    "ExecuteTime": {
     "end_time": "2020-08-04T20:25:56.690636Z",
     "start_time": "2020-08-04T20:25:56.390937Z"
    }
   },
   "outputs": [
    {
     "data": {
      "text/plain": [
       "(50000, 100)"
      ]
     },
     "execution_count": 25,
     "metadata": {},
     "output_type": "execute_result"
    }
   ],
   "source": [
    "# Let's drop duplicate rows if any\n",
    "df_raw = df_raw.drop_duplicates()\n",
    "\n",
    "# Let's check the shape. If it is the same then there are no duplicate rows.\n",
    "df_raw.shape"
   ]
  },
  {
   "cell_type": "markdown",
   "metadata": {},
   "source": [
    "OK no duplicate rows!"
   ]
  },
  {
   "cell_type": "code",
   "execution_count": 26,
   "metadata": {
    "ExecuteTime": {
     "end_time": "2020-08-04T20:26:00.233318Z",
     "start_time": "2020-08-04T20:26:00.227875Z"
    }
   },
   "outputs": [],
   "source": [
    "# Let's check for duplicate columns. This is great function taken from\n",
    "# https://thispointer.com/how-to-find-drop-duplicate-columns-in-a-dataframe-python-pandas/\n",
    "\n",
    "def getDuplicateColumns(df):\n",
    "    '''\n",
    "    Get a list of duplicate columns.\n",
    "    It will iterate over all the columns in dataframe and find the columns whose contents are duplicate.\n",
    "    :param df: Dataframe object\n",
    "    :return: List of columns whose contents are duplicates.\n",
    "    \n",
    "    Note: There are two nested for loops here which will be a performance issue ~ O(n^2). However, \n",
    "          since this is only performed once, it is OK.\n",
    "    '''\n",
    "    # First create an empty set of duplicate column names\n",
    "    duplicateColumnNames = set()\n",
    "    \n",
    "    # Iterate over all the columns in dataframe\n",
    "    for x in range(df.shape[1]):\n",
    "        \n",
    "        # Select column at xth index.\n",
    "        col = df.iloc[:, x]\n",
    "        \n",
    "        # Iterate over all the columns in DataFrame from (x+1)th index till end\n",
    "        for y in range(x + 1, df.shape[1]):\n",
    "            \n",
    "            # Select column at yth index.\n",
    "            otherCol = df.iloc[:, y]\n",
    "            \n",
    "            # Check if two columns at x & y index are equal\n",
    "            if col.equals(otherCol):\n",
    "                duplicateColumnNames.add(df.columns.values[y])\n",
    "                \n",
    "    return list(duplicateColumnNames) "
   ]
  },
  {
   "cell_type": "code",
   "execution_count": 27,
   "metadata": {
    "ExecuteTime": {
     "end_time": "2020-08-04T20:26:09.419818Z",
     "start_time": "2020-08-04T20:26:00.732881Z"
    }
   },
   "outputs": [],
   "source": [
    "dup_column_names = getDuplicateColumns(df_raw)"
   ]
  },
  {
   "cell_type": "code",
   "execution_count": 28,
   "metadata": {
    "ExecuteTime": {
     "end_time": "2020-08-04T20:26:09.425380Z",
     "start_time": "2020-08-04T20:26:09.422158Z"
    }
   },
   "outputs": [
    {
     "name": "stdout",
     "output_type": "stream",
     "text": [
      "Duplicate Columns Names:  []\n"
     ]
    }
   ],
   "source": [
    "print('Duplicate Columns Names: ', dup_column_names)"
   ]
  },
  {
   "cell_type": "markdown",
   "metadata": {},
   "source": [
    "From the first pass, there does not appear to be any duplicate rows or columns. There is no guarantee on this however. Some columns may be duplicates but may be missing a value at a different row. It is a possibility but it will be really time consuming to check. This must be revisited another time. What is critical is the model implementation."
   ]
  },
  {
   "cell_type": "markdown",
   "metadata": {
    "ExecuteTime": {
     "end_time": "2020-08-02T00:56:57.326860Z",
     "start_time": "2020-08-02T00:56:57.322164Z"
    }
   },
   "source": [
    "## Data Preparation & Cleaning"
   ]
  },
  {
   "cell_type": "code",
   "execution_count": 29,
   "metadata": {
    "ExecuteTime": {
     "end_time": "2020-08-04T20:26:09.748314Z",
     "start_time": "2020-08-04T20:26:09.744785Z"
    }
   },
   "outputs": [],
   "source": [
    "# Create function to remove dollar sign\n",
    "def remove_dollar(x):\n",
    "    '''\n",
    "    Function to remove dollar sign and convert amount in parentheses to negative\n",
    "    \n",
    "    Input args: Dollar amount\n",
    "    \n",
    "    Returns: floating point dollar amount\n",
    "    '''\n",
    "    \n",
    "    try:\n",
    "        x = str(x)\n",
    "        x = x.replace('$','')\n",
    "        x = x.replace(',','')\n",
    "        x = x.replace('(','-')\n",
    "        x = x.replace(')','')\n",
    "        \n",
    "        return float(x)\n",
    "    except:\n",
    "        return np.nan"
   ]
  },
  {
   "cell_type": "code",
   "execution_count": 30,
   "metadata": {
    "ExecuteTime": {
     "end_time": "2020-08-04T20:26:13.688017Z",
     "start_time": "2020-08-04T20:26:13.684396Z"
    }
   },
   "outputs": [],
   "source": [
    "# Create a function to convert percentage to floating number\n",
    "def per_float(x):\n",
    "    '''Function to convert percentage input to floating point\n",
    "    \n",
    "    Input args: Percent\n",
    "    \n",
    "    Returns: floating point percentage\n",
    "    '''\n",
    "    \n",
    "    try:\n",
    "        x = str(x)\n",
    "        x = x.replace('%','')\n",
    "        return float(x)/100\n",
    "    except:\n",
    "        return np.nan"
   ]
  },
  {
   "cell_type": "code",
   "execution_count": 31,
   "metadata": {
    "ExecuteTime": {
     "end_time": "2020-08-04T20:26:13.919366Z",
     "start_time": "2020-08-04T20:26:13.840995Z"
    }
   },
   "outputs": [],
   "source": [
    "# Now let's clean it!\n",
    "df_raw['x12'] = df_raw['x12'].apply(remove_dollar)\n",
    "df_raw['x79'] = df_raw['x79'].apply(per_float)"
   ]
  },
  {
   "cell_type": "code",
   "execution_count": 32,
   "metadata": {
    "ExecuteTime": {
     "end_time": "2020-08-04T20:26:14.104427Z",
     "start_time": "2020-08-04T20:26:14.099906Z"
    }
   },
   "outputs": [],
   "source": [
    "# Let's extract numerical and categorical columns\n",
    "# Remember we cleaned two columns above and converted them to numerical\n",
    "cat_cols = df_raw.dtypes[df_raw.dtypes == 'object'].index\n",
    "num_cols = df_raw.dtypes[df_raw.dtypes == 'float64'].index"
   ]
  },
  {
   "cell_type": "code",
   "execution_count": 33,
   "metadata": {
    "ExecuteTime": {
     "end_time": "2020-08-04T20:26:14.961095Z",
     "start_time": "2020-08-04T20:26:14.955609Z"
    }
   },
   "outputs": [],
   "source": [
    "#with open('./data/cat_cols_list.pkl', 'wb') as fp_cat_cols:\n",
    "#    pickle.dump(list(cat_cols), fp_cat_cols, protocol=pickle.HIGHEST_PROTOCOL)\n",
    "\n",
    "\n",
    "with open('./data/num_cols_list.pkl', 'wb') as fp_num_cols:\n",
    "    pickle.dump(list(num_cols), fp_num_cols, protocol=pickle.HIGHEST_PROTOCOL)\n",
    "\n",
    "#print(list(num_cols))"
   ]
  },
  {
   "cell_type": "code",
   "execution_count": 34,
   "metadata": {
    "ExecuteTime": {
     "end_time": "2020-08-04T20:26:18.335113Z",
     "start_time": "2020-08-04T20:26:18.331397Z"
    }
   },
   "outputs": [
    {
     "name": "stdout",
     "output_type": "stream",
     "text": [
      "<class 'list'>\n"
     ]
    }
   ],
   "source": [
    "with open('./data/num_cols_list.pkl', 'rb') as fp:\n",
    "    data2 = pickle.load(fp)\n",
    "    \n",
    "print(type(data2))"
   ]
  },
  {
   "cell_type": "code",
   "execution_count": 35,
   "metadata": {
    "ExecuteTime": {
     "end_time": "2020-08-04T20:26:19.348486Z",
     "start_time": "2020-08-04T20:26:19.344803Z"
    }
   },
   "outputs": [],
   "source": [
    "def replace_missing_num_values(data,numeric_cols):\n",
    "    '''\n",
    "    Imputes missing values with a substitute value in a numeric columns\n",
    "    \n",
    "    Parameters:\n",
    "    -----------\n",
    "    \n",
    "    data: pandas dataframe\n",
    "    numeric_cols: index of numerical columns\n",
    "    \n",
    "    Returns:\n",
    "    --------\n",
    "    \n",
    "    data: Imputed dataframe\n",
    "      \n",
    "    '''\n",
    "    \n",
    "    # Replace missing numerical value with a constant\n",
    "    # Start with zero\n",
    "    fill_constant = 0\n",
    "    \n",
    "    # In this case, we are filling it with a really large number\n",
    "    for col in numeric_cols:\n",
    "        data[col].fillna(fill_constant,inplace=True)\n",
    "    \n",
    "    return(data)\n",
    "    \n",
    "    "
   ]
  },
  {
   "cell_type": "code",
   "execution_count": 36,
   "metadata": {
    "ExecuteTime": {
     "end_time": "2020-08-04T20:26:19.513212Z",
     "start_time": "2020-08-04T20:26:19.509131Z"
    }
   },
   "outputs": [],
   "source": [
    "def replace_categorical_values(data,categorical_cols):\n",
    "    \n",
    "    '''\n",
    "    Encodes and Imputes missing values with a substitute value in \n",
    "    categorical columns\n",
    "    \n",
    "    Parameters:\n",
    "    -----------\n",
    "    \n",
    "    data: pandas dataframe\n",
    "    categorical_cols: index of categorical columns\n",
    "    \n",
    "    \n",
    "    Returns:\n",
    "    --------\n",
    "    \n",
    "    data: Imputed & encoded dataframe\n",
    "    dict_list: dictionary list to be used later\n",
    "      \n",
    "    '''\n",
    "\n",
    "    # Instantiate label encoder\n",
    "    LBL = preprocessing.LabelEncoder()\n",
    "    dict_list = []\n",
    "    \n",
    "    for col in categorical_cols:\n",
    "        # Replace missing values with '0'\n",
    "        data[col] = LBL.fit_transform(data[col].fillna('0'))\n",
    "        \n",
    "        j = dict(zip(LBL.classes_,np.arange(len(LBL.classes_))))\n",
    "        \n",
    "        k = {col:j}\n",
    "        \n",
    "        dict_list.append(k)\n",
    "\n",
    "        #print(dict_list)\n",
    "        \n",
    "    return(data,dict_list)"
   ]
  },
  {
   "cell_type": "code",
   "execution_count": 37,
   "metadata": {
    "ExecuteTime": {
     "end_time": "2020-08-04T20:26:19.841326Z",
     "start_time": "2020-08-04T20:26:19.780196Z"
    }
   },
   "outputs": [],
   "source": [
    "# Handle missing numerical data\n",
    "df_raw = replace_missing_num_values(df_raw,num_cols)\n",
    "\n",
    "# Encode and handle missing categorical data\n",
    "df_raw,cat_dict_list = replace_categorical_values(df_raw,cat_cols)\n"
   ]
  },
  {
   "cell_type": "code",
   "execution_count": 38,
   "metadata": {
    "ExecuteTime": {
     "end_time": "2020-08-04T20:26:21.642892Z",
     "start_time": "2020-08-04T20:26:21.638433Z"
    }
   },
   "outputs": [],
   "source": [
    "with open('./data/cat_dict_list.pkl', 'wb') as fp:\n",
    "    pickle.dump(cat_dict_list, fp, protocol=pickle.HIGHEST_PROTOCOL)\n"
   ]
  },
  {
   "cell_type": "code",
   "execution_count": 39,
   "metadata": {
    "ExecuteTime": {
     "end_time": "2020-08-04T20:26:21.930232Z",
     "start_time": "2020-08-04T20:26:21.927416Z"
    }
   },
   "outputs": [],
   "source": [
    "# Check\n",
    "with open('./data/cat_dict_list.pkl', 'rb') as fp:\n",
    "    data1 = pickle.load(fp)"
   ]
  },
  {
   "cell_type": "code",
   "execution_count": 40,
   "metadata": {
    "ExecuteTime": {
     "end_time": "2020-08-04T20:26:22.245653Z",
     "start_time": "2020-08-04T20:26:22.242712Z"
    }
   },
   "outputs": [
    {
     "name": "stdout",
     "output_type": "stream",
     "text": [
      "{'x1': {'0': 0, 'fri': 1, 'friday': 2, 'monday': 3, 'thur': 4, 'thurday': 5, 'tuesday': 6, 'wed': 7, 'wednesday': 8}}\n"
     ]
    }
   ],
   "source": [
    "print(data1[0])"
   ]
  },
  {
   "cell_type": "code",
   "execution_count": 41,
   "metadata": {
    "ExecuteTime": {
     "end_time": "2020-08-04T20:26:23.373368Z",
     "start_time": "2020-08-04T20:26:23.369555Z"
    }
   },
   "outputs": [
    {
     "data": {
      "text/plain": [
       "(50000, 100)"
      ]
     },
     "execution_count": 41,
     "metadata": {},
     "output_type": "execute_result"
    }
   ],
   "source": [
    "df_raw.shape"
   ]
  },
  {
   "cell_type": "code",
   "execution_count": 42,
   "metadata": {
    "ExecuteTime": {
     "end_time": "2020-08-04T20:26:26.192359Z",
     "start_time": "2020-08-04T20:26:26.189975Z"
    }
   },
   "outputs": [
    {
     "name": "stdout",
     "output_type": "stream",
     "text": [
      "[{'x1': {'0': 0, 'fri': 1, 'friday': 2, 'monday': 3, 'thur': 4, 'thurday': 5, 'tuesday': 6, 'wed': 7, 'wednesday': 8}}, {'x54': {'0': 0, 'Apr': 1, 'Aug': 2, 'Dev': 3, 'Feb': 4, 'January': 5, 'July': 6, 'Jun': 7, 'Mar': 8, 'May': 9, 'Nov': 10, 'Oct': 11, 'sept.': 12}}, {'x82': {'0': 0, 'america': 1, 'asia': 2, 'euorpe': 3}}, {'x84': {'0': 0, 'Honda': 1, 'Toyota': 2, 'bmw': 3, 'chevrolet': 4, 'chrystler': 5, 'ford': 6, 'mercades': 7, 'nissan': 8, 'tesla': 9, 'volkswagon': 10}}]\n"
     ]
    }
   ],
   "source": [
    "# Taking a look at the categorical imprint\n",
    "print(cat_dict_list)"
   ]
  },
  {
   "cell_type": "code",
   "execution_count": 43,
   "metadata": {
    "ExecuteTime": {
     "end_time": "2020-08-04T20:26:27.361977Z",
     "start_time": "2020-08-04T20:26:27.307394Z"
    }
   },
   "outputs": [],
   "source": [
    "# Train test split data\n",
    "X = df_raw[:num_train]\n",
    "\n",
    "X_train, X_test, y_train, y_test = train_test_split(X, y, \n",
    "                                                    test_size = 0.20, \n",
    "                                                    random_state = 2020)\n",
    "\n",
    "holdout_X = df_raw[num_train:]"
   ]
  },
  {
   "cell_type": "code",
   "execution_count": 44,
   "metadata": {
    "ExecuteTime": {
     "end_time": "2020-08-04T20:26:28.468603Z",
     "start_time": "2020-08-04T20:26:28.466287Z"
    }
   },
   "outputs": [],
   "source": [
    "# Dump holdout to a csv file\n",
    "#holdout_X.to_csv('./data/holdout_X_clean.csv',index=False)\n",
    "#holdout_X.to_json('./data/holdout_X_clean_all.json',orient='records',index=True,lines=True)"
   ]
  },
  {
   "cell_type": "markdown",
   "metadata": {
    "ExecuteTime": {
     "end_time": "2020-08-02T19:34:08.174284Z",
     "start_time": "2020-08-02T19:34:08.130980Z"
    }
   },
   "source": [
    "## Machine Learning"
   ]
  },
  {
   "cell_type": "code",
   "execution_count": 45,
   "metadata": {
    "ExecuteTime": {
     "end_time": "2020-08-04T20:26:29.594466Z",
     "start_time": "2020-08-04T20:26:29.523621Z"
    }
   },
   "outputs": [],
   "source": [
    "from sklearn.ensemble import RandomForestClassifier\n",
    "\n",
    "from xgboost          import XGBClassifier\n",
    "\n",
    "from sklearn.metrics  import accuracy_score, make_scorer, confusion_matrix, \\\n",
    "                             precision_score, recall_score, \\\n",
    "                             precision_recall_curve, \\\n",
    "                             roc_curve, roc_auc_score\n",
    "\n",
    "from skopt            import BayesSearchCV\n",
    "from skopt.space      import Real, Categorical, Integer\n",
    "\n",
    "import time"
   ]
  },
  {
   "cell_type": "markdown",
   "metadata": {},
   "source": [
    "### Random Forest"
   ]
  },
  {
   "cell_type": "code",
   "execution_count": 46,
   "metadata": {
    "ExecuteTime": {
     "end_time": "2020-08-04T20:28:36.234026Z",
     "start_time": "2020-08-04T20:26:32.336850Z"
    }
   },
   "outputs": [],
   "source": [
    "# Let's try the popular Random Forest Classifier\n",
    "# Brute Force approach by only considering 500 trees first\n",
    "# oob_score is to check for over-fitting\n",
    "\n",
    "rfc = RandomForestClassifier(n_estimators=500,n_jobs=1,oob_score=True)\n",
    "\n",
    "stime_rfc = time.time()\n",
    "rfc.fit(X_train, y_train)\n",
    "etime_rfc = time.time()\n",
    "\n",
    "time_cost_rfc = etime_rfc - stime_rfc"
   ]
  },
  {
   "cell_type": "code",
   "execution_count": 47,
   "metadata": {
    "ExecuteTime": {
     "end_time": "2020-08-04T20:28:36.319765Z",
     "start_time": "2020-08-04T20:28:36.236039Z"
    }
   },
   "outputs": [
    {
     "name": "stdout",
     "output_type": "stream",
     "text": [
      "OOB accuracy is 0.8801875 \n",
      " OOB Confusion Matrix \n",
      "        0     1\n",
      "0  25517    12\n",
      "1   3822  2649\n"
     ]
    }
   ],
   "source": [
    "print(\n",
    "\"OOB accuracy is\", \n",
    "rfc.oob_score_, \n",
    "\"\\n\", \n",
    "\"OOB Confusion Matrix\", \n",
    "\"\\n\",\n",
    "pd.DataFrame(confusion_matrix(y_train, rfc.oob_decision_function_[:,1].round(), labels=[0, 1]))\n",
    ")"
   ]
  },
  {
   "cell_type": "code",
   "execution_count": 48,
   "metadata": {
    "ExecuteTime": {
     "end_time": "2020-08-04T20:28:37.618909Z",
     "start_time": "2020-08-04T20:28:36.322353Z"
    }
   },
   "outputs": [
    {
     "name": "stdout",
     "output_type": "stream",
     "text": [
      "Test accuracy is 0.87875 \n",
      " Test Set Confusion Matrix \n",
      "       0    1\n",
      "0  6355    1\n",
      "1   969  675\n"
     ]
    }
   ],
   "source": [
    "#and let's print test accuracy and confusion matrix\n",
    "print(\n",
    "\"Test accuracy is\", rfc.score(X_test,y_test), \n",
    "\"\\n\", \n",
    "\"Test Set Confusion Matrix\", \n",
    "\"\\n\",\n",
    "pd.DataFrame(confusion_matrix(y_test, rfc.predict(X_test), labels=[0, 1]))\n",
    ")"
   ]
  },
  {
   "cell_type": "markdown",
   "metadata": {},
   "source": [
    "The accuracy score for out-of-bag and test are nearly similar indicating that I am not over-fitting. Good! Now lets's check what the AUC score is which is required by this project."
   ]
  },
  {
   "cell_type": "code",
   "execution_count": 49,
   "metadata": {
    "ExecuteTime": {
     "end_time": "2020-08-04T20:28:38.291607Z",
     "start_time": "2020-08-04T20:28:37.621270Z"
    }
   },
   "outputs": [
    {
     "name": "stdout",
     "output_type": "stream",
     "text": [
      "AUC ROC Score Random Forest: 0.705\n"
     ]
    }
   ],
   "source": [
    "# AUC score\n",
    "y_pred_rfc = rfc.predict(X_test)\n",
    "\n",
    "roc_auc_rfc = roc_auc_score(y_test,y_pred_rfc)\n",
    "\n",
    "print('AUC ROC Score Random Forest: {:.3f}'.format(roc_auc_rfc))"
   ]
  },
  {
   "cell_type": "markdown",
   "metadata": {},
   "source": [
    "An AUC score of nearly 0.70 is OK, but not great. Can this be improved further via Hyperparameter tuning? Of course! However, let's use a boosting method aka XGBoost and see if there is any improvement."
   ]
  },
  {
   "cell_type": "markdown",
   "metadata": {},
   "source": [
    "### XGBoost"
   ]
  },
  {
   "cell_type": "markdown",
   "metadata": {},
   "source": [
    "**Note: Due to reasons I am still trying to figure out, I am unable to run XGBoost in multithreaded mode. Hence, for a fair comparison in terms of timing, I have run both models using 1 core.**"
   ]
  },
  {
   "cell_type": "code",
   "execution_count": 50,
   "metadata": {
    "ExecuteTime": {
     "end_time": "2020-08-04T20:28:38.296886Z",
     "start_time": "2020-08-04T20:28:38.294423Z"
    }
   },
   "outputs": [],
   "source": [
    "# Intantiate object\n",
    "xgbc = XGBClassifier(n_estimators = 500,n_jobs = 1)"
   ]
  },
  {
   "cell_type": "code",
   "execution_count": 51,
   "metadata": {
    "ExecuteTime": {
     "end_time": "2020-08-04T20:29:58.765580Z",
     "start_time": "2020-08-04T20:28:38.299534Z"
    }
   },
   "outputs": [],
   "source": [
    "stime_xgbc = time.time()\n",
    "xgbc.fit(X_train,y_train)\n",
    "etime_xgbc = time.time()\n",
    "\n",
    "time_cost_xgbc = etime_xgbc - stime_xgbc"
   ]
  },
  {
   "cell_type": "code",
   "execution_count": 52,
   "metadata": {
    "ExecuteTime": {
     "end_time": "2020-08-04T20:29:58.903156Z",
     "start_time": "2020-08-04T20:29:58.768992Z"
    }
   },
   "outputs": [
    {
     "name": "stdout",
     "output_type": "stream",
     "text": [
      "AUC ROC Score Random Forest: 0.705\n",
      "AUC ROC Score XGBoost      : 0.890\n"
     ]
    }
   ],
   "source": [
    "# Make prediction\n",
    "y_pred_xgbc   = xgbc.predict(X_test)\n",
    "\n",
    "# AUC score\n",
    "roc_auc_xgbc = roc_auc_score(y_test,y_pred_xgbc)\n",
    "\n",
    "# Compare the two \n",
    "print('AUC ROC Score Random Forest: {:.3f}'.format(roc_auc_rfc))\n",
    "print('AUC ROC Score XGBoost      : {:.3f}'.format(roc_auc_xgbc))"
   ]
  },
  {
   "cell_type": "markdown",
   "metadata": {},
   "source": [
    "The XGBoost AUC score of 0.89 is a considerable improvement over its Random Forest counterpart. An AUC score of 0.89 is actually very good if I have no sense of what the overall business case is. Since computational time is not significant, let's see if we can push this over 0.90 by not by increasing the trees but doubling the depth."
   ]
  },
  {
   "cell_type": "code",
   "execution_count": 53,
   "metadata": {
    "ExecuteTime": {
     "end_time": "2020-08-04T20:32:32.241687Z",
     "start_time": "2020-08-04T20:29:58.906168Z"
    }
   },
   "outputs": [],
   "source": [
    "# Redo but with doubling the depth\n",
    "xgbc_md6 = XGBClassifier(n_estimators = 500,n_jobs = 1, max_depth=6)\n",
    "\n",
    "stime_xgbc_md6 = time.time()\n",
    "xgbc_md6.fit(X_train,y_train)\n",
    "etime_xgbc_md6 = time.time()\n",
    "\n",
    "time_cost_xgbc_md6 = etime_xgbc_md6 - stime_xgbc_md6"
   ]
  },
  {
   "cell_type": "code",
   "execution_count": 54,
   "metadata": {
    "ExecuteTime": {
     "end_time": "2020-08-04T20:32:32.487797Z",
     "start_time": "2020-08-04T20:32:32.243857Z"
    }
   },
   "outputs": [
    {
     "name": "stdout",
     "output_type": "stream",
     "text": [
      "============ AUC ROC Score Sheet ===============\n",
      "\n",
      "AUC ROC Score Random Forest (500)       : 0.705\n",
      "AUC ROC Score XGBoost (500)             : 0.890\n",
      "AUC ROC Score XGBoost (500, Max depth 6): 0.943\n"
     ]
    }
   ],
   "source": [
    "y_pred_xgbc_md6  = xgbc_md6.predict(X_test)\n",
    "\n",
    "# AUC score\n",
    "roc_auc_xgbc_md6 = roc_auc_score(y_test,y_pred_xgbc_md6)\n",
    "\n",
    "# Compare the two\n",
    "print('============ AUC ROC Score Sheet ===============\\n')\n",
    "print('AUC ROC Score Random Forest (500)       : {:.3f}'.format(roc_auc_rfc))\n",
    "print('AUC ROC Score XGBoost (500)             : {:.3f}'.format(roc_auc_xgbc))\n",
    "print('AUC ROC Score XGBoost (500, Max depth 6): {:.3f}'.format(roc_auc_xgbc_md6))"
   ]
  },
  {
   "cell_type": "code",
   "execution_count": 55,
   "metadata": {
    "ExecuteTime": {
     "end_time": "2020-08-04T20:32:32.493213Z",
     "start_time": "2020-08-04T20:32:32.490091Z"
    }
   },
   "outputs": [
    {
     "name": "stdout",
     "output_type": "stream",
     "text": [
      "============ Timing Report ===============\n",
      "\n",
      "AUC ROC Score Random Forest (500)       : 123.89 secs\n",
      "AUC ROC Score XGBoost (500)             : 80.46 secs\n",
      "AUC ROC Score XGBoost (500, Max depth 6): 153.33 secs\n"
     ]
    }
   ],
   "source": [
    "# Compare the two\n",
    "print('============ Timing Report ===============\\n')\n",
    "print('AUC ROC Score Random Forest (500)       : {:.2f} secs'.format(time_cost_rfc))\n",
    "print('AUC ROC Score XGBoost (500)             : {:.2f} secs'.format(time_cost_xgbc))\n",
    "print('AUC ROC Score XGBoost (500, Max depth 6): {:.2f} secs'.format(time_cost_xgbc_md6))"
   ]
  },
  {
   "cell_type": "markdown",
   "metadata": {},
   "source": [
    "Just by doubling the tree depth, the AUC score improved by 0.06 points which now stands at 0.94. This score is really impressive. However, it came by nearly doubling the computational cost compared to the default value. If resources are not really an issue (and I can run this XGBoost in parallel) and AUC is of significant importance, a larger parameter space can be explored to improve this number. My recommendation will be to stop here and use the latest XGBoost model for further prediction. The next section discusses a little about Hyper-parameter tuning."
   ]
  },
  {
   "cell_type": "code",
   "execution_count": 56,
   "metadata": {
    "ExecuteTime": {
     "end_time": "2020-08-04T20:32:32.501160Z",
     "start_time": "2020-08-04T20:32:32.494943Z"
    }
   },
   "outputs": [
    {
     "data": {
      "text/plain": [
       "['./models/xgbc_md6.pkl']"
      ]
     },
     "execution_count": 56,
     "metadata": {},
     "output_type": "execute_result"
    }
   ],
   "source": [
    "# Dump model to pickle file\n",
    "import joblib\n",
    "\n",
    "joblib.dump(xgbc_md6, './models/xgbc_md6.pkl')"
   ]
  },
  {
   "cell_type": "code",
   "execution_count": 57,
   "metadata": {
    "ExecuteTime": {
     "end_time": "2020-08-04T20:32:32.508521Z",
     "start_time": "2020-08-04T20:32:32.502921Z"
    }
   },
   "outputs": [
    {
     "data": {
      "text/plain": [
       "['./models/model_columns.pkl']"
      ]
     },
     "execution_count": 57,
     "metadata": {},
     "output_type": "execute_result"
    }
   ],
   "source": [
    "# Dump model columns for potential use later\n",
    "model_columns = list(X_train.columns)\n",
    "\n",
    "joblib.dump(model_columns, './models/model_columns.pkl')"
   ]
  },
  {
   "cell_type": "raw",
   "metadata": {
    "ExecuteTime": {
     "end_time": "2020-08-04T04:10:52.179869Z",
     "start_time": "2020-08-04T04:10:51.867460Z"
    }
   },
   "source": [
    "# Predict the holdout set\n",
    "y_pred_proba_holdout = xgbc_md6.predict_proba(holdout_X)\n",
    "\n",
    "#print(y_pred_proba_holdout)\n",
    "\n",
    "my_list_proba = []\n",
    "# Let's print the proper output\n",
    "for row in y_pred_proba_holdout[:4]:\n",
    "    \n",
    "    imax = np.argmax(row)\n",
    "    nmax = float(format(np.max(row), '.16f'))\n",
    "        \n",
    "    my_dict = {\"class\":imax, \"probability\": nmax}\n",
    "    \n",
    "    my_list_proba.append(my_dict)\n",
    "    \n",
    "print(my_list)"
   ]
  },
  {
   "cell_type": "code",
   "execution_count": 58,
   "metadata": {
    "ExecuteTime": {
     "end_time": "2020-08-04T20:32:32.513470Z",
     "start_time": "2020-08-04T20:32:32.510180Z"
    }
   },
   "outputs": [],
   "source": [
    "def extract_proba_to_dict(y_pred_proba):\n",
    "    '''\n",
    "    A helper function to extract probabilities of predictions and \n",
    "    dump it in format that is required\n",
    "    \n",
    "    Input args: y_pred_proba -> predicted probabilities\n",
    "    \n",
    "    Returns: my_list_proba -> json formated list output of Class 0 and 1 probabilities\n",
    "    '''\n",
    "    \n",
    "    my_list_proba = []\n",
    "    \n",
    "    for row in y_pred_proba:\n",
    "    \n",
    "        imax = np.argmax(row)\n",
    "        nmax = float(format(np.max(row), '.16f'))\n",
    "        \n",
    "        my_dict = {\"class\":imax, \"probability\": nmax}\n",
    "    \n",
    "        my_list_proba.append(my_dict)\n",
    "        \n",
    "    return(my_list_proba)"
   ]
  },
  {
   "cell_type": "code",
   "execution_count": 60,
   "metadata": {
    "ExecuteTime": {
     "end_time": "2020-08-04T20:33:06.317218Z",
     "start_time": "2020-08-04T20:33:06.315658Z"
    }
   },
   "outputs": [],
   "source": [
    "#prediction = extract_proba_to_dict(y_pred_proba_holdout)\n",
    "\n",
    "#print(prediction)"
   ]
  },
  {
   "cell_type": "markdown",
   "metadata": {},
   "source": [
    "## A Note about Hyper-Parameter Tuning"
   ]
  },
  {
   "cell_type": "markdown",
   "metadata": {},
   "source": [
    "I decided not perform a rigorous hyper-parameter tuning for two reasons:\n",
    "\n",
    "1. The resulting AUC score of 0.94 is an exceptionally good starting point using XGBoost but doubling the default max_depth\n",
    "\n",
    "2. Resources required on my end a limited due to not being able to run in multi-threaded mode\n",
    "\n",
    "Nonetheless, if I were to do some tuning, I would perform a Bayesian Search for the optimal parameters such as the one shown below for XGBoost."
   ]
  },
  {
   "cell_type": "raw",
   "metadata": {
    "ExecuteTime": {
     "end_time": "2020-08-03T00:29:24.180858Z",
     "start_time": "2020-08-03T00:29:24.170280Z"
    }
   },
   "source": [
    "### Do not run. Expensive for now.\n",
    "\n",
    "xgbc = XGBClassifier()\n",
    "\n",
    "search_space_xbgc = {\"max_depth\": Integer(6, 20), # values of max_depth are integers from 6 to 20\n",
    "                     \"booster\": Categorical(['gbtree', 'dart']),\n",
    "                     \"min_child_weight\": Integer(0, 10),\n",
    "                     \"gamma\": [0, 10, 100, 1000],\n",
    "                     \"eta\": [0, 0.1, 0.2, 0.4, 0.6, 0.8],\n",
    "                     \"n_estimators\": Integer(500, 800)}\n",
    "\n",
    "def on_step(optim_result):\n",
    "    \"\"\"\n",
    "    Callback meant to view scores after\n",
    "    each iteration while performing Bayesian\n",
    "    Optimization in Skopt\n",
    "    \"\"\"\n",
    "    \n",
    "    score = xgbc_bayes_search.best_score_\n",
    "    print(\"best auc score: %s\" % score)\n",
    "    if score >= 0.95:\n",
    "        print('Interrupting!')\n",
    "        return True\n",
    "\n",
    "xgbc_bayes_search = BayesSearchCV(xgbc, search_space_xgbc, n_iter = 32, # specify how many iterations\n",
    "                                  scoring=\"roc_auc\", n_jobs=-1, cv = 10)\n",
    "\n",
    "xgbc_bayes_search.fit(X_train, y_train, callback=on_step)\n",
    "\n",
    "xbgc_bayes_search.best_params_\n",
    "\n",
    "xgbc_bayes_search.best_score_\n",
    "\n",
    "y_pred = xgbc_bayes_search.predict(X_test)"
   ]
  },
  {
   "cell_type": "markdown",
   "metadata": {},
   "source": [
    "## Checking Feature Importance"
   ]
  },
  {
   "cell_type": "code",
   "execution_count": 61,
   "metadata": {
    "ExecuteTime": {
     "end_time": "2020-08-04T20:33:09.927987Z",
     "start_time": "2020-08-04T20:33:09.925794Z"
    }
   },
   "outputs": [],
   "source": [
    "from xgboost import plot_importance\n"
   ]
  },
  {
   "cell_type": "code",
   "execution_count": 62,
   "metadata": {
    "ExecuteTime": {
     "end_time": "2020-08-04T20:33:11.616779Z",
     "start_time": "2020-08-04T20:33:10.469914Z"
    }
   },
   "outputs": [
    {
     "data": {
      "image/png": "[encoded data removed]",
      "text/plain": [
       "<Figure size 864x1440 with 1 Axes>"
      ]
     },
     "metadata": {
      "needs_background": "light"
     },
     "output_type": "display_data"
    }
   ],
   "source": [
    "plt.rcParams[\"figure.figsize\"] = (12, 20)\n",
    "plot_importance(xgbc_md6);\n",
    "plt.show()"
   ]
  },
  {
   "cell_type": "code",
   "execution_count": null,
   "metadata": {},
   "outputs": [],
   "source": []
  }
 ],
 "metadata": {
  "kernelspec": {
   "display_name": "Python 3",
   "language": "python",
   "name": "python3"
  },
  "language_info": {
   "codemirror_mode": {
    "name": "ipython",
    "version": 3
   },
   "file_extension": ".py",
   "mimetype": "text/x-python",
   "name": "python",
   "nbconvert_exporter": "python",
   "pygments_lexer": "ipython3",
   "version": "3.7.3"
  },
  "latex_envs": {
   "LaTeX_envs_menu_present": true,
   "autoclose": false,
   "autocomplete": true,
   "bibliofile": "biblio.bib",
   "cite_by": "apalike",
   "current_citInitial": 1,
   "eqLabelWithNumbers": true,
   "eqNumInitial": 1,
   "hotkeys": {
    "equation": "Ctrl-E",
    "itemize": "Ctrl-I"
   },
   "labels_anchors": false,
   "latex_user_defs": false,
   "report_style_numbering": false,
   "user_envs_cfg": false
  },
  "toc": {
   "base_numbering": 1,
   "nav_menu": {},
   "number_sections": true,
   "sideBar": true,
   "skip_h1_title": false,
   "title_cell": "Table of Contents",
   "title_sidebar": "Contents",
   "toc_cell": false,
   "toc_position": {},
   "toc_section_display": true,
   "toc_window_display": true
  }
 },
 "nbformat": 4,
 "nbformat_minor": 2
}
